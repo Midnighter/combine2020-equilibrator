{
 "cells": [
  {
   "cell_type": "markdown",
   "metadata": {
    "slideshow": {
     "slide_type": "slide"
    }
   },
   "source": [
    "# Equilibrator for Metabolic Network Analysis: Thermodynamic Profiling and Enzyme-Cost Minimization"
   ]
  },
  {
   "cell_type": "markdown",
   "metadata": {
    "slideshow": {
     "slide_type": "-"
    }
   },
   "source": [
    "Moritz E. Beber & Elad Noor\n",
    "\n",
    "COMBINE2020"
   ]
  },
  {
   "cell_type": "markdown",
   "metadata": {
    "slideshow": {
     "slide_type": "slide"
    }
   },
   "source": [
    "## Fundamentals"
   ]
  },
  {
   "cell_type": "markdown",
   "metadata": {},
   "source": [
    "The direction of net flux through a reaction $r$ is given by the sign of its transformed Gibbs free energy at physiological conditions $ \\operatorname{sgn} \\left( \\Delta_r G' \\right) $.\n",
    "\n",
    "\\begin{align}\n",
    "\\Delta_r G' & = \\Delta_r G'^\\circ + R T \\cdot \\ln \\left( Q_r \\right) \\\\\n",
    "\\ln \\left( Q_r \\right) & = \\mathbf{ S }_r^{ \\top } \\mathbf{ x }\n",
    "\\end{align}\n",
    "\n",
    "* $ \\Delta_r G'^\\circ $: standard transformed Gibbs energy of reaction $ r $ (assumes $ 1 ~ \\mathrm{mol} \\mspace{3mu} \\mathrm{L}^{-1} $ concentrations)\n",
    "* $ R $: gas constant\n",
    "* $ T $: temperature\n",
    "* $ Q_r $: reaction quotient\n",
    "* $ \\mathbf{ S }_r $: column vector of the stoichiometric matrix, representing reaction $ r $\n",
    "* $ \\mathbf{ x } $: vector of natural logarithm of metabolite concentrations"
   ]
  },
  {
   "cell_type": "markdown",
   "metadata": {
    "slideshow": {
     "slide_type": "subslide"
    }
   },
   "source": [
    "\\begin{align}\n",
    "\\Delta_r G' & = \\Delta_r G'^\\circ + R T \\cdot \\mathbf{ S }_r^{ \\top } \\mathbf{ x } \\\\\n",
    "\\end{align}\n",
    "\n",
    "* $ \\Delta_r G' < 0 $: net flux proceeds in forward direction\n",
    "* $ \\Delta_r G' > 0 $: net flux proceeds in reverse direction\n",
    "* $ \\Delta_r G' = 0 $: reaction is in equilibrium\n",
    "\n",
    "$ -\\Delta_r G' $ is also called the _driving force_"
   ]
  },
  {
   "cell_type": "markdown",
   "metadata": {
    "slideshow": {
     "slide_type": "slide"
    }
   },
   "source": [
    "## How do we obtain the standard transformed Gibbs energy of a reaction?"
   ]
  },
  {
   "cell_type": "markdown",
   "metadata": {},
   "source": [
    "* Measure it $ \\Delta_r G'^\\circ = - R T \\ln \\left( K'_r \\right) $ at apparent equilibrium\n",
    "* Measure energy of compound formation $ \\Delta_r G'^\\circ \\approx \\mathbf{ S }_r^{ \\top } \\Delta_f G^\\circ $ known as Reactant Contribution (RC) uses reference points\n",
    "* Group Contribution (GC) $ \\Delta_r G'^\\circ \\approx \\mathbf{ S }_r^{ \\top } \\mathbf{G} \\Delta_g G^\\circ $\n",
    "* Component Contribution (CC) combines RC and GC"
   ]
  },
  {
   "cell_type": "markdown",
   "metadata": {
    "slideshow": {
     "slide_type": "subslide"
    }
   },
   "source": [
    "1. Jankowski, Matthew D., Christopher S. Henry, Linda J. Broadbelt, and Vassily Hatzimanikatis. 2008. “Group Contribution Method for Thermodynamic Analysis of Complex Metabolic Networks.” Biophysical Journal 95 (3): 1487–99. https://doi.org/10.1529/biophysj.107.124784.\n",
    "2. Noor, Elad, Arren Bar-Even, Avi Flamholz, Yaniv Lubling, Dan Davidi, and Ron Milo. 2012. “An Integrated Open Framework for Thermodynamics of Reactions That Combines Accuracy and Coverage.” Bioinformatics 28 (15): 2037–44. https://doi.org/10.1093/bioinformatics/bts317.\n",
    "3. Noor, Elad, Hulda S. Haraldsdóttir, Ron Milo, and Ronan M. T. Fleming. 2013. “Consistent Estimation of Gibbs Energy Using Component Contributions.” PLOS Computational Biology 9 (7): e1003098. https://doi.org/10.1371/journal.pcbi.1003098.\n",
    "4. Du, Bin, Zhen Zhang, Sharon Grubner, James T. Yurkovich, Bernhard O. Palsson, and Daniel C. Zielinski. 2018. “Temperature-Dependent Estimation of Gibbs Energies Using an Updated Group-Contribution Method.” Biophysical Journal 114 (11): 2691–2702. https://doi.org/10.1016/j.bpj.2018.04.030.\n"
   ]
  },
  {
   "cell_type": "markdown",
   "metadata": {
    "slideshow": {
     "slide_type": "slide"
    }
   },
   "source": [
    "## eQuilibrator"
   ]
  },
  {
   "cell_type": "markdown",
   "metadata": {
    "slideshow": {
     "slide_type": "-"
    }
   },
   "source": [
    "<img src=\"../images/equilibrator_3_0.svg\" style=\"height: 20cm; display: inline-block; align: center;\"/>"
   ]
  },
  {
   "cell_type": "markdown",
   "metadata": {
    "slideshow": {
     "slide_type": "subslide"
    }
   },
   "source": [
    "## Database Content"
   ]
  },
  {
   "cell_type": "markdown",
   "metadata": {
    "slideshow": {
     "slide_type": "-"
    }
   },
   "source": [
    "<img src=\"../images/metanetx-4.0.png\" style=\"height: 15cm; display: inline-block;\" />"
   ]
  },
  {
   "cell_type": "code",
   "execution_count": 1,
   "metadata": {
    "slideshow": {
     "slide_type": "subslide"
    }
   },
   "outputs": [],
   "source": [
    "from equilibrator_api import ComponentContribution\n",
    "from equilibrator_cache.models import Compound"
   ]
  },
  {
   "cell_type": "code",
   "execution_count": 2,
   "metadata": {},
   "outputs": [
    {
     "name": "stdout",
     "output_type": "stream",
     "text": [
      "Downloading package metadata...\n",
      "Fragments already downloaded\n",
      "Downloading package metadata...\n",
      "Fragments already downloaded\n"
     ]
    }
   ],
   "source": [
    "cc = ComponentContribution()"
   ]
  },
  {
   "cell_type": "code",
   "execution_count": 3,
   "metadata": {},
   "outputs": [
    {
     "name": "stdout",
     "output_type": "stream",
     "text": [
      "694,324\n"
     ]
    }
   ],
   "source": [
    "print(f\"{cc.ccache.session.query(Compound).count():,d}\")"
   ]
  },
  {
   "cell_type": "code",
   "execution_count": 4,
   "metadata": {},
   "outputs": [
    {
     "name": "stdout",
     "output_type": "stream",
     "text": [
      "460,769\n"
     ]
    }
   ],
   "source": [
    "structures = [\n",
    "    c.inchi_key[:-2]\n",
    "    for c in cc.ccache.session.query(Compound.inchi_key).filter(Compound.inchi_key.isnot(None))\n",
    "]\n",
    "print(f\"{len(set(structures)):,d}\")"
   ]
  },
  {
   "cell_type": "markdown",
   "metadata": {
    "slideshow": {
     "slide_type": "subslide"
    }
   },
   "source": [
    "glucose = gluconate"
   ]
  },
  {
   "cell_type": "markdown",
   "metadata": {
    "slideshow": {
     "slide_type": "slide"
    }
   },
   "source": [
    "## What can we use the transformed Gibbs energies for?"
   ]
  },
  {
   "cell_type": "markdown",
   "metadata": {},
   "source": [
    "* Max-min driving force\n",
    "* Enzyme cost minimization\n",
    "* Reversibility index\n",
    "* Many others"
   ]
  },
  {
   "cell_type": "markdown",
   "metadata": {
    "slideshow": {
     "slide_type": "subslide"
    }
   },
   "source": [
    "### Max-min driving force (MDF)"
   ]
  },
  {
   "cell_type": "markdown",
   "metadata": {},
   "source": [
    "\\begin{eqnarray}\n",
    "    \\text{maximize} & B \\\\\n",
    "    \\text{subject to} &  -\\Delta_r \\mathbf{G}' & \\geq B \\\\\n",
    "    & \\Delta_r \\mathbf{G}' &= \\Delta_r \\mathbf{G}'^\\circ + RT \\cdot \\mathbf{S}^\\top \\cdot \\mathbf{x} \\\\\n",
    "    & \\ln(\\mathbf{c}_{\\min}) &\\leq \\mathbf{x} \\leq \\ln(\\mathbf{c}_{\\max})\n",
    "\\end{eqnarray}"
   ]
  },
  {
   "cell_type": "markdown",
   "metadata": {
    "slideshow": {
     "slide_type": "subslide"
    }
   },
   "source": [
    "### Enzyme cost minimization (ECM)"
   ]
  },
  {
   "cell_type": "markdown",
   "metadata": {},
   "source": [
    "\\begin{align}\n",
    "v(s, p, E) = E ~ \\dfrac{k_{cat}^+ ~ s/K_s - k_{cat}^- ~ p/K_p}{1 + s/K_s + p/K_p}\n",
    "\\end{align}"
   ]
  },
  {
   "cell_type": "markdown",
   "metadata": {},
   "source": [
    "\\begin{align}\n",
    "E(s, p) = v ~ \\frac{1 + s/K_s + p/K_p}{k_{cat}^+ ~ s/K_s - k_{cat}^- ~ p/K_p}\n",
    "\\end{align}"
   ]
  },
  {
   "cell_type": "markdown",
   "metadata": {},
   "source": [
    "\\begin{align}\n",
    "q(\\mathbf{x}) = \\sum_i h_{E_i} E_i(\\mathbf{x})\n",
    "\\end{align}"
   ]
  },
  {
   "cell_type": "markdown",
   "metadata": {
    "slideshow": {
     "slide_type": "subslide"
    }
   },
   "source": [
    "### Reversibility Index"
   ]
  },
  {
   "cell_type": "markdown",
   "metadata": {},
   "source": [
    "* Reversibility index $ \\gamma $ represents the required change in concentration to reverse reaction direction\n",
    "* $ \\gamma = 1000 \\equiv \\ln ( \\gamma ) \\approx 7 $ represents our threshold of three orders of magnitude\n",
    "\n",
    "\n",
    "Noor, Elad, Arren Bar-Even, Avi Flamholz, Yaniv Lubling, Dan Davidi, and Ron Milo. 2012. “An Integrated Open Framework for Thermodynamics of Reactions That Combines Accuracy and Coverage.” Bioinformatics 28 (15): 2037–44. https://doi.org/10.1093/bioinformatics/bts317."
   ]
  },
  {
   "cell_type": "code",
   "execution_count": 5,
   "metadata": {
    "slideshow": {
     "slide_type": "subslide"
    }
   },
   "outputs": [],
   "source": [
    "from operator import attrgetter\n",
    "from cobra.io import load_model\n",
    "from equilibrator_cache import CompoundCache\n",
    "from equilibrator_api.compatibility import map_cobra_reactions"
   ]
  },
  {
   "cell_type": "code",
   "execution_count": 6,
   "metadata": {},
   "outputs": [],
   "source": [
    "model = load_model(\"e_coli_core\")"
   ]
  },
  {
   "cell_type": "code",
   "execution_count": 7,
   "metadata": {},
   "outputs": [
    {
     "data": {
      "text/plain": [
       "75"
      ]
     },
     "execution_count": 7,
     "metadata": {},
     "output_type": "execute_result"
    }
   ],
   "source": [
    "reactions = sorted(set(model.reactions) - set(model.boundary), key=attrgetter(\"id\"))\n",
    "len(reactions)"
   ]
  },
  {
   "cell_type": "code",
   "execution_count": 8,
   "metadata": {},
   "outputs": [],
   "source": [
    "mapping = map_cobra_reactions(cache=cc.ccache, reactions=reactions)"
   ]
  },
  {
   "cell_type": "code",
   "execution_count": 9,
   "metadata": {},
   "outputs": [
    {
     "data": {
      "text/plain": [
       "75"
      ]
     },
     "execution_count": 9,
     "metadata": {},
     "output_type": "execute_result"
    }
   ],
   "source": [
    "len(mapping)"
   ]
  },
  {
   "cell_type": "code",
   "execution_count": 10,
   "metadata": {},
   "outputs": [
    {
     "data": {
      "text/plain": [
       "'Compound(id=6, inchi_key=ZKHQWZAMYRWXGA-KQYNXXCUSA-J) + Compound(id=74386, inchi_key=BGWGXPAPYGQALX-ARQDHWQXSA-L) => Compound(id=4, inchi_key=GPRLSGONYQIRFK-UHFFFAOYSA-N) + Compound(id=10, inchi_key=XTWYTFMLZFPYCI-KQYNXXCUSA-K) + Compound(id=396, inchi_key=RNBGYGVWRKECFJ-VRPWFDPXSA-J)'"
      ]
     },
     "execution_count": 10,
     "metadata": {},
     "output_type": "execute_result"
    }
   ],
   "source": [
    "str(mapping[\"PFK\"])"
   ]
  },
  {
   "cell_type": "code",
   "execution_count": 11,
   "metadata": {
    "scrolled": true,
    "slideshow": {
     "slide_type": "subslide"
    }
   },
   "outputs": [
    {
     "name": "stdout",
     "output_type": "stream",
     "text": [
      "ACALDt True (13.9 +/- 1.0) dimensionless\n",
      "ACt2r True (-206.3 +/- 0.8) dimensionless\n",
      "AKGDH False (-3.8 +/- 0.5) dimensionless\n",
      "AKGt2r True (-514.2 +/- 1.1) dimensionless\n",
      "ATPS4r True (12.58 +/- 0.08) dimensionless\n",
      "CO2t True (-325.4 +/- 2.4) dimensionless\n",
      "D_LACt2 True (-250.0 +/- 1.8) dimensionless\n",
      "ETOHt2r True (52.7 +/- 1.1) dimensionless\n",
      "FBP False (-6.6 +/- 0.4) dimensionless\n",
      "GLNS False (-2.06 +/- 0.11) dimensionless\n",
      "GLUSy False (-6.43 +/- 0.13) dimensionless\n",
      "GLUt2r True (-292.0 +/- 1.0) dimensionless\n",
      "GND False (-1.1 +/- 0.5) dimensionless\n",
      "H2Ot True inf\n",
      "ICL False (-2.0 +/- 0.4) dimensionless\n",
      "ME1 False (-0.8 +/- 0.5) dimensionless\n",
      "ME2 False (-0.8 +/- 0.5) dimensionless\n",
      "NADTRHD False (-0.00 +/- 0.07) dimensionless\n",
      "NH4t True (60.1 +/- 0.9) dimensionless\n",
      "PDH False (-4.6 +/- 0.4) dimensionless\n",
      "PFK False (-4.47 +/- 0.31) dimensionless\n",
      "PFL False (-4.00 +/- 0.30) dimensionless\n",
      "PIt2r True (-865.8 +/- 0.6) dimensionless\n",
      "PPCK False (-1.0 +/- 0.5) dimensionless\n",
      "PPS False (-3.56 +/- 0.08) dimensionless\n",
      "PYK False (-5.05 +/- 0.09) dimensionless\n",
      "PYRt2 True (-286.8 +/- 0.6) dimensionless\n",
      "THD2 False (0.00 +/- 0.07) dimensionless\n"
     ]
    }
   ],
   "source": [
    "for rxn_id, eq_rxn in mapping.items():\n",
    "    ln_gamma = cc.ln_reversibility_index(eq_rxn)\n",
    "    rxn = model.reactions.get_by_id(rxn_id)\n",
    "    if rxn.reversibility and abs(ln_gamma) > 7.0:\n",
    "        print(rxn_id, rxn.reversibility, ln_gamma)\n",
    "    elif not rxn.reversibility and abs(ln_gamma) < 7.0:\n",
    "        print(rxn_id, rxn.reversibility, ln_gamma)"
   ]
  },
  {
   "cell_type": "code",
   "execution_count": 12,
   "metadata": {
    "slideshow": {
     "slide_type": "subslide"
    }
   },
   "outputs": [
    {
     "data": {
      "text/html": [
       "\n",
       "        <table>\n",
       "            <tr>\n",
       "                <td><strong>Reaction identifier</strong></td><td>THD2</td>\n",
       "            </tr><tr>\n",
       "                <td><strong>Name</strong></td><td>NAD(P) transhydrogenase</td>\n",
       "            </tr><tr>\n",
       "                <td><strong>Memory address</strong></td>\n",
       "                <td>0x07f598d16ab20</td>\n",
       "            </tr><tr>\n",
       "                <td><strong>Stoichiometry</strong></td>\n",
       "                <td>\n",
       "                    <p style='text-align:right'>2.0 h_e + nadh_c + nadp_c --> 2.0 h_c + nad_c + nadph_c</p>\n",
       "                    <p style='text-align:right'>2.0 H+ + Nicotinamide adenine dinucleotide - reduced + Nicotinamide adenine dinucleotide phosphate --> 2.0 H+ + Nicotinamide adenine dinucleotide + Nicotinamide adenine dinucleotide phosphate -...</p>\n",
       "                </td>\n",
       "            </tr><tr>\n",
       "                <td><strong>GPR</strong></td><td>b1602 and b1603</td>\n",
       "            </tr><tr>\n",
       "                <td><strong>Lower bound</strong></td><td>0.0</td>\n",
       "            </tr><tr>\n",
       "                <td><strong>Upper bound</strong></td><td>1000.0</td>\n",
       "            </tr>\n",
       "        </table>\n",
       "        "
      ],
      "text/plain": [
       "<Reaction THD2 at 0x7f598d16ab20>"
      ]
     },
     "execution_count": 12,
     "metadata": {},
     "output_type": "execute_result"
    }
   ],
   "source": [
    "model.reactions.THD2"
   ]
  },
  {
   "cell_type": "markdown",
   "metadata": {
    "slideshow": {
     "slide_type": "slide"
    }
   },
   "source": [
    "## Thank You & Discussion"
   ]
  },
  {
   "cell_type": "markdown",
   "metadata": {},
   "source": [
    "Please reach out to us with questions, suggestions, or problems.\n",
    "\n",
    "* Chat with us on <a href=\"https://gitter.im/equilibrator-devs/equilibrator-api\">gitter.im</a>\n",
    "* Open an issue on https://gitlab.com/equilibrator/equilibrator-api\n",
    "* <a href=\"mailto:noor@imsb.biol.ethz.ch?subject=equilibrator\"><img src=\"../images/envelope-solid.svg\" alt=\"email\" style=\"height: 1.2em; display: inline-block;\" /> noor@imsb.biol.ethz.ch</a>\n",
    "* <a href=\"mailto:moritz@unseenbio.com?subject=equilibrator\"><img src=\"../images/envelope-solid.svg\" alt=\"email\" style=\"height: 1.2em; display: inline-block;\" /> moritz@unseenbio.com</a>"
   ]
  }
 ],
 "metadata": {
  "celltoolbar": "Slideshow",
  "kernelspec": {
   "display_name": "Python 3",
   "language": "python",
   "name": "python3"
  },
  "language_info": {
   "codemirror_mode": {
    "name": "ipython",
    "version": 3
   },
   "file_extension": ".py",
   "mimetype": "text/x-python",
   "name": "python",
   "nbconvert_exporter": "python",
   "pygments_lexer": "ipython3",
   "version": "3.8.6"
  },
  "toc": {
   "base_numbering": 1,
   "nav_menu": {},
   "number_sections": false,
   "sideBar": true,
   "skip_h1_title": true,
   "title_cell": "Table of Contents",
   "title_sidebar": "Contents",
   "toc_cell": false,
   "toc_position": {},
   "toc_section_display": true,
   "toc_window_display": false
  }
 },
 "nbformat": 4,
 "nbformat_minor": 4
}
