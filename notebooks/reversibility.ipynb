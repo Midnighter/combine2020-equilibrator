{
 "cells": [
  {
   "cell_type": "code",
   "execution_count": null,
   "metadata": {},
   "outputs": [],
   "source": [
    "!pip install --no-deps -r https://raw.githubusercontent.com/Midnighter/combine2020-equilibrator/picp/colab_reversibility.txt"
   ]
  },
  {
   "cell_type": "markdown",
   "metadata": {
    "slideshow": {
     "slide_type": "slide"
    }
   },
   "source": [
    "# Equilibrator for Metabolic Network Analysis: Thermodynamic Profiling and Enzyme-Cost Minimization"
   ]
  },
  {
   "cell_type": "markdown",
   "metadata": {
    "slideshow": {
     "slide_type": "-"
    }
   },
   "source": [
    "Moritz E. Beber & Elad Noor"
   ]
  },
  {
   "cell_type": "markdown",
   "metadata": {
    "slideshow": {
     "slide_type": "slide"
    }
   },
   "source": [
    "## Fundamentals"
   ]
  },
  {
   "cell_type": "markdown",
   "metadata": {},
   "source": [
    "The direction of net flux through a reaction $r$ is given by the sign of its transformed Gibbs free energy at physiological conditions $ \\operatorname{sgn} \\left( \\Delta_r G' \\right) $.\n",
    "\n",
    "\\begin{align}\n",
    "\\Delta_r G' & = \\Delta_r G'^\\circ + R T \\cdot \\ln \\left( Q_r \\right) \\\\\n",
    "\\ln \\left( Q_r \\right) & = \\mathbf{ S }_r^{ \\top } \\mathbf{ x }\n",
    "\\end{align}\n",
    "\n",
    "* $ \\Delta_r G'^\\circ $: standard transformed Gibbs energy of reaction $ r $ (assumes $ 1 ~ \\mathrm{mol} \\mspace{3mu} \\mathrm{L}^{-1} $ concentrations)\n",
    "* $ R $: gas constant\n",
    "* $ T $: temperature\n",
    "* $ Q_r $: reaction quotient\n",
    "* $ \\mathbf{ S }_r $: column vector of the stoichiometric matrix, representing reaction $ r $\n",
    "* $ \\mathbf{ x } $: vector of natural logarithm of metabolite concentrations"
   ]
  },
  {
   "cell_type": "markdown",
   "metadata": {
    "slideshow": {
     "slide_type": "subslide"
    }
   },
   "source": [
    "\\begin{align}\n",
    "\\Delta_r G' & = \\Delta_r G'^\\circ + R T \\cdot \\mathbf{ S }_r^{ \\top } \\mathbf{ x } \\\\\n",
    "\\end{align}\n",
    "\n",
    "* $ \\Delta_r G' < 0 $: net flux proceeds in forward direction\n",
    "* $ \\Delta_r G' > 0 $: net flux proceeds in reverse direction\n",
    "* $ \\Delta_r G' = 0 $: reaction is in equilibrium\n",
    "\n",
    "$ -\\Delta_r G' $ is also called the _driving force_"
   ]
  },
  {
   "cell_type": "markdown",
   "metadata": {
    "slideshow": {
     "slide_type": "slide"
    }
   },
   "source": [
    "## How do we obtain the standard transformed Gibbs energy of a reaction?"
   ]
  },
  {
   "cell_type": "markdown",
   "metadata": {},
   "source": [
    "* Measure it $ \\Delta_r G'^\\circ = - R T \\ln \\left( K'_r \\right) $ at apparent equilibrium\n",
    "* Measure energy of compound formation $ \\Delta_r G'^\\circ \\approx \\mathbf{ S }_r^{ \\top } \\Delta_f G^\\circ $ known as Reactant Contribution (RC) uses reference points\n",
    "* Group Contribution (GC) $ \\Delta_r G'^\\circ \\approx \\mathbf{ S }_r^{ \\top } \\mathbf{G} \\Delta_g G^\\circ $\n",
    "* Component Contribution (CC) combines RC and GC"
   ]
  },
  {
   "cell_type": "markdown",
   "metadata": {
    "slideshow": {
     "slide_type": "subslide"
    }
   },
   "source": [
    "1. Jankowski, Matthew D., Christopher S. Henry, Linda J. Broadbelt, and Vassily Hatzimanikatis. 2008. “Group Contribution Method for Thermodynamic Analysis of Complex Metabolic Networks.” Biophysical Journal 95 (3): 1487–99. https://doi.org/10.1529/biophysj.107.124784.\n",
    "2. Noor, Elad, Arren Bar-Even, Avi Flamholz, Yaniv Lubling, Dan Davidi, and Ron Milo. 2012. “An Integrated Open Framework for Thermodynamics of Reactions That Combines Accuracy and Coverage.” Bioinformatics 28 (15): 2037–44. https://doi.org/10.1093/bioinformatics/bts317.\n",
    "3. Noor, Elad, Hulda S. Haraldsdóttir, Ron Milo, and Ronan M. T. Fleming. 2013. “Consistent Estimation of Gibbs Energy Using Component Contributions.” PLOS Computational Biology 9 (7): e1003098. https://doi.org/10.1371/journal.pcbi.1003098.\n",
    "4. Du, Bin, Zhen Zhang, Sharon Grubner, James T. Yurkovich, Bernhard O. Palsson, and Daniel C. Zielinski. 2018. “Temperature-Dependent Estimation of Gibbs Energies Using an Updated Group-Contribution Method.” Biophysical Journal 114 (11): 2691–2702. https://doi.org/10.1016/j.bpj.2018.04.030.\n"
   ]
  },
  {
   "cell_type": "markdown",
   "metadata": {
    "slideshow": {
     "slide_type": "slide"
    }
   },
   "source": [
    "## eQuilibrator"
   ]
  },
  {
   "cell_type": "markdown",
   "metadata": {
    "slideshow": {
     "slide_type": "subslide"
    }
   },
   "source": [
    "## Database Content"
   ]
  },
  {
   "cell_type": "markdown",
   "metadata": {
    "slideshow": {
     "slide_type": "-"
    }
   },
   "source": [
    "<img src=\"../images/metanetx-4.0.png\" style=\"height: 15cm; display: inline-block;\" />"
   ]
  },
  {
   "cell_type": "code",
   "execution_count": null,
   "metadata": {
    "slideshow": {
     "slide_type": "subslide"
    }
   },
   "outputs": [],
   "source": [
    "from equilibrator_api import ComponentContribution\n",
    "from equilibrator_cache.models import Compound"
   ]
  },
  {
   "cell_type": "code",
   "execution_count": null,
   "metadata": {},
   "outputs": [],
   "source": [
    "cc = ComponentContribution()"
   ]
  },
  {
   "cell_type": "code",
   "execution_count": null,
   "metadata": {
    "scrolled": true
   },
   "outputs": [],
   "source": [
    "print(f\"{cc.ccache.session.query(Compound).count():,d}\")"
   ]
  },
  {
   "cell_type": "code",
   "execution_count": null,
   "metadata": {},
   "outputs": [],
   "source": [
    "structures = [\n",
    "    c.inchi_key[:-2]\n",
    "    for c in cc.ccache.session.query(Compound.inchi_key).filter(Compound.inchi_key.isnot(None))\n",
    "]\n",
    "print(f\"{len(set(structures)):,d}\")"
   ]
  },
  {
   "cell_type": "markdown",
   "metadata": {
    "slideshow": {
     "slide_type": "slide"
    }
   },
   "source": [
    "## What can we use the transformed Gibbs energies for?"
   ]
  },
  {
   "cell_type": "markdown",
   "metadata": {},
   "source": [
    "* [Max-min driving force](https://gitlab.com/equilibrator/equilibrator-pathway/-/blob/develop/examples/ecoli_noor_2016.ipynb)\n",
    "* Reversibility index\n",
    "* TMFA\n",
    "* TMFA sampling"
   ]
  },
  {
   "cell_type": "markdown",
   "metadata": {
    "slideshow": {
     "slide_type": "subslide"
    }
   },
   "source": [
    "### Max-min driving force (MDF)"
   ]
  },
  {
   "cell_type": "markdown",
   "metadata": {},
   "source": [
    "\\begin{eqnarray}\n",
    "    \\text{maximize} & B \\\\\n",
    "    \\text{subject to} &  -\\Delta_r \\mathbf{G}' & \\geq B \\\\\n",
    "    & \\Delta_r \\mathbf{G}' &= \\Delta_r \\mathbf{G}'^\\circ + RT \\cdot \\mathbf{S}^\\top \\cdot \\mathbf{x} \\\\\n",
    "    & \\ln(\\mathbf{c}_{\\min}) &\\leq \\mathbf{x} \\leq \\ln(\\mathbf{c}_{\\max})\n",
    "\\end{eqnarray}"
   ]
  },
  {
   "cell_type": "markdown",
   "metadata": {
    "slideshow": {
     "slide_type": "subslide"
    }
   },
   "source": [
    "### Reversibility Index"
   ]
  },
  {
   "cell_type": "markdown",
   "metadata": {},
   "source": [
    "* Reversibility index $ \\gamma $ represents the required change in concentration to reverse reaction direction\n",
    "* $ \\gamma = 1000 \\equiv \\ln ( \\gamma ) \\approx 7 $ represents our threshold of three orders of magnitude\n",
    "\n",
    "\n",
    "Noor, Elad, Arren Bar-Even, Avi Flamholz, Yaniv Lubling, Dan Davidi, and Ron Milo. 2012. “An Integrated Open Framework for Thermodynamics of Reactions That Combines Accuracy and Coverage.” Bioinformatics 28 (15): 2037–44. https://doi.org/10.1093/bioinformatics/bts317."
   ]
  },
  {
   "cell_type": "code",
   "execution_count": null,
   "metadata": {
    "slideshow": {
     "slide_type": "subslide"
    }
   },
   "outputs": [],
   "source": [
    "from operator import attrgetter\n",
    "from cobra.io import load_model\n",
    "from equilibrator_cache import CompoundCache\n",
    "from equilibrator_api.compatibility import map_cobra_reactions"
   ]
  },
  {
   "cell_type": "code",
   "execution_count": null,
   "metadata": {},
   "outputs": [],
   "source": [
    "model = load_model(\"e_coli_core\")"
   ]
  },
  {
   "cell_type": "code",
   "execution_count": null,
   "metadata": {},
   "outputs": [],
   "source": [
    "reactions = sorted(set(model.reactions) - set(model.boundary), key=attrgetter(\"id\"))\n",
    "len(reactions)"
   ]
  },
  {
   "cell_type": "code",
   "execution_count": null,
   "metadata": {},
   "outputs": [],
   "source": [
    "mapping = map_cobra_reactions(cache=cc.ccache, reactions=reactions)"
   ]
  },
  {
   "cell_type": "code",
   "execution_count": null,
   "metadata": {},
   "outputs": [],
   "source": [
    "len(mapping)"
   ]
  },
  {
   "cell_type": "code",
   "execution_count": null,
   "metadata": {
    "scrolled": true,
    "slideshow": {
     "slide_type": "subslide"
    }
   },
   "outputs": [],
   "source": [
    "for rxn_id, eq_rxn in mapping.items():\n",
    "    ln_gamma = cc.ln_reversibility_index(eq_rxn)\n",
    "    rxn = model.reactions.get_by_id(rxn_id)\n",
    "    if rxn.reversibility and abs(ln_gamma) > 7.0:\n",
    "        print(rxn_id, \"is reversible but ln[gamma] =\", ln_gamma)\n",
    "    elif not rxn.reversibility and abs(ln_gamma) < 7.0:\n",
    "        print(rxn_id, \"is irreversible but ln[gamma] =\", ln_gamma)"
   ]
  },
  {
   "cell_type": "code",
   "execution_count": null,
   "metadata": {
    "slideshow": {
     "slide_type": "subslide"
    }
   },
   "outputs": [],
   "source": [
    "model.reactions.THD2"
   ]
  },
  {
   "cell_type": "markdown",
   "metadata": {
    "slideshow": {
     "slide_type": "slide"
    }
   },
   "source": [
    "## Thank You & Discussion"
   ]
  },
  {
   "cell_type": "markdown",
   "metadata": {},
   "source": [
    "Please reach out to us with questions, suggestions, or problems.\n",
    "\n",
    "* Chat with us on <a href=\"https://gitter.im/equilibrator-devs/equilibrator-api\">gitter.im</a>\n",
    "* Open an issue on https://gitlab.com/equilibrator/equilibrator-api\n",
    "* <a href=\"mailto:noor@imsb.biol.ethz.ch?subject=equilibrator\"><img src=\"../images/envelope-solid.svg\" alt=\"email\" style=\"height: 1.2em; display: inline-block;\" /> eladnoor@protonmail.com</a>\n",
    "* <a href=\"mailto:moritz@unseenbio.com?subject=equilibrator\"><img src=\"../images/envelope-solid.svg\" alt=\"email\" style=\"height: 1.2em; display: inline-block;\" /> moritz.beber@posteo.de</a>"
   ]
  }
 ],
 "metadata": {
  "celltoolbar": "Slideshow",
  "kernelspec": {
   "display_name": "Python 3 (ipykernel)",
   "language": "python",
   "name": "python3"
  },
  "language_info": {
   "codemirror_mode": {
    "name": "ipython",
    "version": 3
   },
   "file_extension": ".py",
   "mimetype": "text/x-python",
   "name": "python",
   "nbconvert_exporter": "python",
   "pygments_lexer": "ipython3",
   "version": "3.8.10"
  },
  "toc": {
   "base_numbering": 1,
   "nav_menu": {},
   "number_sections": false,
   "sideBar": true,
   "skip_h1_title": true,
   "title_cell": "Table of Contents",
   "title_sidebar": "Contents",
   "toc_cell": false,
   "toc_position": {},
   "toc_section_display": true,
   "toc_window_display": false
  }
 },
 "nbformat": 4,
 "nbformat_minor": 4
}
