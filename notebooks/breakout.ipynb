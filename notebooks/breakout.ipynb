{
 "cells": [
  {
   "cell_type": "markdown",
   "metadata": {
    "slideshow": {
     "slide_type": "slide"
    }
   },
   "source": [
    "#   What is the best way to add thermodynamic information to an SBML model?"
   ]
  },
  {
   "cell_type": "markdown",
   "metadata": {
    "slideshow": {
     "slide_type": "-"
    }
   },
   "source": [
    "Moritz E. Beber, Elad Noor"
   ]
  },
  {
   "cell_type": "markdown",
   "metadata": {
    "slideshow": {
     "slide_type": "-"
    }
   },
   "source": [
    "COMBINE2020"
   ]
  },
  {
   "cell_type": "markdown",
   "metadata": {
    "slideshow": {
     "slide_type": "slide"
    }
   },
   "source": [
    "## Motivation"
   ]
  },
  {
   "cell_type": "markdown",
   "metadata": {
    "slideshow": {
     "slide_type": "-"
    }
   },
   "source": [
    "* Metabolic Engineering\n",
    "* Genome-scale constraint-based metabolic modeling\n",
    "* Highly underdetermined systems\n",
    "* Authors constrain models to fit their scenario\n",
    "* Altering metabolic network or the medium can have unintended consequences"
   ]
  },
  {
   "cell_type": "markdown",
   "metadata": {
    "slideshow": {
     "slide_type": "fragment"
    }
   },
   "source": [
    "* Elad has published a lot both on theory and application\n",
    "\n",
    "1. Niebel, Bastian, Simeon Leupold, and Matthias Heinemann. 2019. “An Upper Limit on Gibbs Energy Dissipation Governs Cellular Metabolism.” Nature Metabolism 1 (1): 125–32. https://doi.org/10.1038/s42255-018-0006-7.\n",
    "2. Hädicke, Oliver, Axel von Kamp, Timur Aydogan, and Steffen Klamt. 2018. “OptMDFpathway: Identification of Metabolic Pathways with Maximal Thermodynamic Driving Force and Its Application for Analyzing the Endogenous CO2 Fixation Potential of Escherichia Coli.” PLOS Computational Biology 14 (9): e1006492. https://doi.org/10.1371/journal.pcbi.1006492."
   ]
  },
  {
   "cell_type": "markdown",
   "metadata": {
    "slideshow": {
     "slide_type": "slide"
    }
   },
   "source": [
    "## Thermodynamic Information"
   ]
  },
  {
   "cell_type": "markdown",
   "metadata": {},
   "source": [
    "* [eQuilibrator](http://equilibrator.weizmann.ac.il/) provides:\n",
    "    * standard formation energy $ \\Delta_f G'^\\circ $ and at physiological conditions $ \\Delta_f G' $\n",
    "    * standard Gibbs free energy $ \\Delta_r G'^\\circ $ and at physiological conditions $ \\Delta_r G' $"
   ]
  },
  {
   "cell_type": "markdown",
   "metadata": {
    "slideshow": {
     "slide_type": "subslide"
    }
   },
   "source": [
    "### eQuilibrator Content"
   ]
  },
  {
   "cell_type": "markdown",
   "metadata": {
    "slideshow": {
     "slide_type": "-"
    }
   },
   "source": [
    "<img src=\"../images/metanetx-4.0.png\" style=\"text-align: center; vertical-align: middle;\" />"
   ]
  },
  {
   "cell_type": "markdown",
   "metadata": {
    "slideshow": {
     "slide_type": "subslide"
    }
   },
   "source": [
    "Python package [equilibrator-api](https://gitlab.com/equilibrator/equilibrator-api)"
   ]
  },
  {
   "cell_type": "code",
   "execution_count": 10,
   "metadata": {
    "slideshow": {
     "slide_type": "-"
    }
   },
   "outputs": [],
   "source": [
    "from equilibrator_api import ComponentContribution, Q_"
   ]
  },
  {
   "cell_type": "code",
   "execution_count": 11,
   "metadata": {},
   "outputs": [
    {
     "name": "stdout",
     "output_type": "stream",
     "text": [
      "Downloading package metadata...\n",
      "Fragments already downloaded\n",
      "Downloading package metadata...\n",
      "Fragments already downloaded\n"
     ]
    }
   ],
   "source": [
    "cc = ComponentContribution()"
   ]
  },
  {
   "cell_type": "code",
   "execution_count": 12,
   "metadata": {},
   "outputs": [],
   "source": [
    "reaction = cc.parse_reaction_formula(\"kegg:C00002 + kegg:C00001 = kegg:C00008 + kegg:C00009\")\n",
    "cc.p_h = Q_(7.4)\n",
    "cc.p_mg = Q_(3.0)\n",
    "cc.ionic_strength = Q_(\"0.25M\")\n",
    "cc.temperature = Q_(\"298.15K\")"
   ]
  },
  {
   "cell_type": "code",
   "execution_count": 13,
   "metadata": {
    "slideshow": {
     "slide_type": "fragment"
    }
   },
   "outputs": [
    {
     "name": "stdout",
     "output_type": "stream",
     "text": [
      "ΔG'° = (-29.14 +/- 0.30) kilojoule / mole\n"
     ]
    }
   ],
   "source": [
    "dG0_prime = cc.standard_dg_prime(reaction)\n",
    "print(f\"ΔG'° = {dG0_prime}\")"
   ]
  },
  {
   "cell_type": "code",
   "execution_count": 14,
   "metadata": {
    "slideshow": {
     "slide_type": "fragment"
    }
   },
   "outputs": [
    {
     "name": "stdout",
     "output_type": "stream",
     "text": [
      "ΔG'm = (-46.26 +/- 0.30) kilojoule / mole\n"
     ]
    }
   ],
   "source": [
    "dGm_prime = cc.physiological_dg_prime(reaction)\n",
    "print(f\"ΔG'm = {dGm_prime}\")"
   ]
  },
  {
   "cell_type": "code",
   "execution_count": 15,
   "metadata": {
    "slideshow": {
     "slide_type": "subslide"
    }
   },
   "outputs": [
    {
     "name": "stdout",
     "output_type": "stream",
     "text": [
      "ΔG' = (-49.24 +/- 0.30) kilojoule / mole\n"
     ]
    }
   ],
   "source": [
    "concentrations = [('kegg:C00002', 1.0),\n",
    "                  ('kegg:C00009', 0.1),\n",
    "                  ('kegg:C00008', 3.0)]\n",
    "for cid, conc in concentrations:\n",
    "    compound = cc.get_compound(cid)\n",
    "    abundance = Q_(conc, \"mM\")\n",
    "    reaction.set_abundance(compound, abundance)\n",
    "\n",
    "dG_prime = cc.dg_prime(reaction)\n",
    "print(f\"ΔG' = {dG_prime}\")"
   ]
  },
  {
   "cell_type": "markdown",
   "metadata": {
    "slideshow": {
     "slide_type": "subslide"
    }
   },
   "source": [
    "### Summary"
   ]
  },
  {
   "cell_type": "markdown",
   "metadata": {
    "slideshow": {
     "slide_type": "-"
    }
   },
   "source": [
    "* We can provide thermodynamic information for genome-scale models\n",
    "* It is _crucial_ that we communicate covariance information to reduce uncertainties in networks of reactions"
   ]
  },
  {
   "cell_type": "markdown",
   "metadata": {
    "slideshow": {
     "slide_type": "slide"
    }
   },
   "source": [
    "## How do we add this information to a model?"
   ]
  },
  {
   "cell_type": "markdown",
   "metadata": {},
   "source": [
    "* Can easily provide scripts but for publishing and other communication would like to package this"
   ]
  },
  {
   "cell_type": "markdown",
   "metadata": {
    "slideshow": {
     "slide_type": "fragment"
    }
   },
   "source": [
    "* Conditions should be encoded on compartments\n",
    "* Some energy values could be stored in the new SBML key value store\n",
    "* Covariance is trickier:\n",
    "    * either a matrix\n",
    "    * or many individual vectors\n",
    "* Does it make sense to encode constraints?    "
   ]
  },
  {
   "cell_type": "markdown",
   "metadata": {
    "slideshow": {
     "slide_type": "fragment"
    }
   },
   "source": [
    "* SBML array package?\n",
    "* SBtab or ObjTable?\n",
    "* COMBINE archive?"
   ]
  }
 ],
 "metadata": {
  "celltoolbar": "Slideshow",
  "kernelspec": {
   "display_name": "Python 3",
   "language": "python",
   "name": "python3"
  },
  "language_info": {
   "codemirror_mode": {
    "name": "ipython",
    "version": 3
   },
   "file_extension": ".py",
   "mimetype": "text/x-python",
   "name": "python",
   "nbconvert_exporter": "python",
   "pygments_lexer": "ipython3",
   "version": "3.8.6"
  },
  "toc": {
   "base_numbering": 1,
   "nav_menu": {},
   "number_sections": false,
   "sideBar": true,
   "skip_h1_title": true,
   "title_cell": "Table of Contents",
   "title_sidebar": "Contents",
   "toc_cell": false,
   "toc_position": {},
   "toc_section_display": true,
   "toc_window_display": false
  }
 },
 "nbformat": 4,
 "nbformat_minor": 4
}
