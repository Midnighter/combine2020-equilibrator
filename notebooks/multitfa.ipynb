{
 "cells": [
  {
   "cell_type": "code",
   "execution_count": null,
   "id": "21fe7a1b",
   "metadata": {},
   "outputs": [],
   "source": [
    "!pip install --no-deps -r colab_multitfa.txt"
   ]
  },
  {
   "cell_type": "code",
   "execution_count": null,
   "id": "99f229d0",
   "metadata": {},
   "outputs": [],
   "source": [
    "from operator import attrgetter"
   ]
  },
  {
   "cell_type": "code",
   "execution_count": null,
   "id": "82928a2d",
   "metadata": {},
   "outputs": [],
   "source": [
    "import numpy as np\n",
    "import pandas as pd\n",
    "from cobra.io import load_model"
   ]
  },
  {
   "cell_type": "code",
   "execution_count": null,
   "id": "57fec240",
   "metadata": {},
   "outputs": [],
   "source": [
    "from multitfa.core import tmodel\n",
    "from multitfa.analysis import variability_legacy_cplex"
   ]
  },
  {
   "cell_type": "code",
   "execution_count": null,
   "id": "be7ba79d",
   "metadata": {},
   "outputs": [],
   "source": [
    "cobra_model = load_model(\"e_coli_core\")"
   ]
  },
  {
   "cell_type": "markdown",
   "id": "a59c9384",
   "metadata": {},
   "source": [
    "Compartment specific pH and ionic strength information. Ionic strength units should be in M."
   ]
  },
  {
   "cell_type": "code",
   "execution_count": null,
   "id": "113dee81",
   "metadata": {},
   "outputs": [],
   "source": [
    "pH_I_dict = {\n",
    "    \"pH\": {\"c\": 7.5, \"e\": 7, \"p\": 7},\n",
    "    \"I\": {\"c\": 0.25, \"e\": 0, \"p\": 0},\n",
    "}"
   ]
  },
  {
   "cell_type": "markdown",
   "id": "aa101e83",
   "metadata": {},
   "source": [
    "Membrane potentials between different compartments. Units for membrane potential is mV."
   ]
  },
  {
   "cell_type": "code",
   "execution_count": null,
   "id": "75aedc72",
   "metadata": {},
   "outputs": [],
   "source": [
    "del_psi_dict = {\n",
    "    \"c\": {\"c\": 0, \"e\": 0, \"p\": 150},\n",
    "    \"e\": {\"c\": 0, \"e\": 0, \"p\": 0},\n",
    "    \"p\": {\"c\": -150, \"e\": 0, \"p\": 0},\n",
    "}"
   ]
  },
  {
   "cell_type": "code",
   "execution_count": null,
   "id": "abcc5fc8",
   "metadata": {},
   "outputs": [],
   "source": [
    "del_psi = pd.DataFrame.from_dict(data=del_psi_dict)\n",
    "comp_info = pd.DataFrame.from_dict(data=pH_I_dict)"
   ]
  },
  {
   "cell_type": "code",
   "execution_count": null,
   "id": "0cd07452",
   "metadata": {},
   "outputs": [],
   "source": [
    "cobra_model.boundary"
   ]
  },
  {
   "cell_type": "code",
   "execution_count": null,
   "id": "70bad1dd",
   "metadata": {},
   "outputs": [],
   "source": [
    "excl_reactions = [\n",
    "    rxn.id\n",
    "    for rxn in set(\n",
    "        cobra_model.boundary\n",
    "        + [\n",
    "            cobra_model.reactions.BIOMASS_Ecoli_core_w_GAM,\n",
    "            cobra_model.reactions.O2t,\n",
    "            cobra_model.reactions.H2Ot,\n",
    "        ]\n",
    "    )\n",
    "]"
   ]
  },
  {
   "cell_type": "code",
   "execution_count": null,
   "id": "ec6d9f08",
   "metadata": {},
   "outputs": [],
   "source": [
    "tfa_model = tmodel(\n",
    "    cobra_model,\n",
    "    Exclude_list=excl_reactions,\n",
    "    compartment_info=comp_info,\n",
    "    membrane_potential=del_psi,\n",
    ")"
   ]
  },
  {
   "cell_type": "code",
   "execution_count": null,
   "id": "23f220b1",
   "metadata": {},
   "outputs": [],
   "source": [
    "for met in tfa_model.metabolites:\n",
    "    met.Kegg_id = \"bigg.metabolite:\" + met.id[:-2]\n",
    "\n",
    "tfa_model.update()"
   ]
  },
  {
   "cell_type": "code",
   "execution_count": null,
   "id": "e17cf56f",
   "metadata": {},
   "outputs": [],
   "source": [
    "print(\"Number of constraints before update {}\\n\".format(len(cobra_model.constraints)))\n",
    "print(\"Number of reactions in the model {}\\n\".format(len(tfa_model.reactions)))\n",
    "print(\n",
    "    \"Number of reactions excluded from thermodynamic analysis {}\\n\".format(\n",
    "        len(tfa_model.Exclude_reactions)\n",
    "    )\n",
    ")\n",
    "print(\"Number of mass balance constraints {}\\n\".format(len(tfa_model.metabolites)))\n",
    "num_cons = 2 * 3 * (len(tfa_model.reactions) - len(tfa_model.Exclude_reactions)) + len(\n",
    "    tfa_model.metabolites\n",
    ")\n",
    "print(\"Number of constraints to be present after update {}\\n\".format(num_cons))\n",
    "print(\n",
    "    \"Number of constraints present after update {}\\n\".format(len(tfa_model.constraints))\n",
    ")"
   ]
  },
  {
   "cell_type": "code",
   "execution_count": null,
   "id": "035a584a",
   "metadata": {},
   "outputs": [],
   "source": [
    "atp = tfa_model.metabolites.get_by_id(\"atp_c\")"
   ]
  },
  {
   "cell_type": "code",
   "execution_count": null,
   "id": "127e17c0",
   "metadata": {},
   "outputs": [],
   "source": [
    "print(\"Standard Gibbs energy of formation of ATP is {} KJ/mol\".format(atp.delG_f))\n",
    "print(\"initial concentrations\")\n",
    "print(\"{}\\t{}\\t{}\".format(atp.id, atp.concentration_min, atp.concentration_max))"
   ]
  },
  {
   "cell_type": "code",
   "execution_count": null,
   "id": "1e1a8283",
   "metadata": {},
   "outputs": [],
   "source": [
    "atp.concentration_min = 2e-3\n",
    "atp.concentration_max = 5e-2\n",
    "tfa_model.update()"
   ]
  },
  {
   "cell_type": "code",
   "execution_count": null,
   "id": "9f9e1ecc",
   "metadata": {},
   "outputs": [],
   "source": [
    "print(\"Concentrations after modifying\")\n",
    "print(\"{}\\t{}\\t{}\".format(atp.id, atp.concentration_min, atp.concentration_max))"
   ]
  },
  {
   "cell_type": "code",
   "execution_count": null,
   "id": "eb19df01",
   "metadata": {},
   "outputs": [],
   "source": [
    "tfa_model.reactions.get_by_id(\"ATPS4r\").lower_bound = 0"
   ]
  },
  {
   "cell_type": "code",
   "execution_count": null,
   "id": "6c38882c",
   "metadata": {},
   "outputs": [],
   "source": [
    "solution = tfa_model.optimize()"
   ]
  },
  {
   "cell_type": "code",
   "execution_count": null,
   "id": "2abe5c0c",
   "metadata": {},
   "outputs": [],
   "source": [
    "solution[\"BIOMASS_Ecoli_core_w_GAM\"]"
   ]
  },
  {
   "cell_type": "code",
   "execution_count": null,
   "id": "9028e319",
   "metadata": {},
   "outputs": [],
   "source": [
    "cobra_model.slim_optimize()"
   ]
  },
  {
   "cell_type": "code",
   "execution_count": null,
   "id": "57c254b0",
   "metadata": {},
   "outputs": [],
   "source": [
    "def build_core_model():\n",
    "    model = load_model(\"e_coli_core\")\n",
    "    pH_I_T_dict = {\n",
    "        \"pH\": {\"c\": 7.5, \"e\": 7, \"p\": 7},\n",
    "        \"I\": {\"c\": 0.25, \"e\": 0, \"p\": 0},\n",
    "        \"T\": {\"c\": 298.15, \"e\": 298.15, \"p\": 298.15},\n",
    "    }\n",
    "    del_psi_dict = {\n",
    "        \"c\": {\"c\": 0, \"e\": 0, \"p\": 150},\n",
    "        \"e\": {\"c\": 0, \"e\": 0, \"p\": 0},\n",
    "        \"p\": {\"c\": -150, \"e\": 0, \"p\": 0},\n",
    "    }\n",
    "    del_psi = pd.DataFrame.from_dict(data=del_psi_dict)\n",
    "    comp_info = pd.DataFrame.from_dict(data=pH_I_T_dict)\n",
    "\n",
    "    excluded_reactions = [rxn.id for rxn in model.boundary] + [\n",
    "        \"BIOMASS_Ecoli_core_w_GAM\",\n",
    "        \"O2t\",\n",
    "        \"H2Ot\",\n",
    "    ]\n",
    "\n",
    "    tfa_model = tmodel(\n",
    "        model,\n",
    "        Exclude_list=excluded_reactions,\n",
    "        compartment_info=comp_info,\n",
    "        membrane_potential=del_psi,\n",
    "    )\n",
    "    for met in tfa_model.metabolites:\n",
    "        met.Kegg_id = \"bigg.metabolite:\" + met.id[:-2]\n",
    "\n",
    "    tfa_model.update()\n",
    "\n",
    "    return tfa_model"
   ]
  },
  {
   "cell_type": "code",
   "execution_count": null,
   "id": "bffd7a72",
   "metadata": {},
   "outputs": [],
   "source": [
    "model = build_core_model()"
   ]
  },
  {
   "cell_type": "code",
   "execution_count": null,
   "id": "070d429e",
   "metadata": {},
   "outputs": [],
   "source": [
    "solution_box = model.optimize(solve_method=\"mip\")\n",
    "print(solution_box.objective_value)"
   ]
  },
  {
   "cell_type": "code",
   "execution_count": null,
   "id": "a24e0318",
   "metadata": {},
   "outputs": [],
   "source": [
    "solution_miqc = model.optimize()  # In this case we are solving the MIQCP\n",
    "print(solution_miqc.objective_value)"
   ]
  },
  {
   "cell_type": "code",
   "execution_count": null,
   "id": "e6ec89d3",
   "metadata": {},
   "outputs": [],
   "source": [
    "from multitfa.analysis import variability, variability_legacy_cplex"
   ]
  },
  {
   "cell_type": "code",
   "execution_count": null,
   "id": "78f0ff44",
   "metadata": {},
   "outputs": [],
   "source": [
    "dg_vars = [\n",
    "    rxn.delG_forward.name\n",
    "    for rxn in model.reactions\n",
    "    if rxn.id not in model.Exclude_reactions\n",
    "]"
   ]
  },
  {
   "cell_type": "code",
   "execution_count": null,
   "id": "41f561e0",
   "metadata": {},
   "outputs": [],
   "source": [
    "box_ranges = variability(model, dg_vars)"
   ]
  },
  {
   "cell_type": "code",
   "execution_count": null,
   "id": "133c48d1",
   "metadata": {},
   "outputs": [],
   "source": [
    "ranges_miqc = variability_legacy_cplex(model, variable_list=dg_vars)"
   ]
  },
  {
   "cell_type": "code",
   "execution_count": null,
   "id": "dcce1fd4",
   "metadata": {
    "scrolled": true
   },
   "outputs": [],
   "source": [
    "np.sqrt(np.power((box_ranges.maximum - box_ranges.minimum), 2.0).sum())"
   ]
  },
  {
   "cell_type": "code",
   "execution_count": null,
   "id": "eb30abb3",
   "metadata": {},
   "outputs": [],
   "source": [
    "np.sqrt(np.power((ranges_miqc.maximum - ranges_miqc.minimum), 2.0).sum())"
   ]
  },
  {
   "cell_type": "code",
   "execution_count": null,
   "id": "b041878f",
   "metadata": {},
   "outputs": [],
   "source": [
    "mask = (ranges_miqc.maximum - ranges_miqc.minimum) > (\n",
    "    box_ranges.maximum - box_ranges.minimum\n",
    ")"
   ]
  },
  {
   "cell_type": "code",
   "execution_count": null,
   "id": "149c8e5f",
   "metadata": {},
   "outputs": [],
   "source": [
    "ranges_miqc.loc[mask].shape"
   ]
  },
  {
   "cell_type": "code",
   "execution_count": null,
   "id": "54bf3eed",
   "metadata": {},
   "outputs": [],
   "source": [
    "ranges_miqc.loc[~mask].shape"
   ]
  }
 ],
 "metadata": {
  "kernelspec": {
   "display_name": "Python 3 (ipykernel)",
   "language": "python",
   "name": "python3"
  },
  "language_info": {
   "codemirror_mode": {
    "name": "ipython",
    "version": 3
   },
   "file_extension": ".py",
   "mimetype": "text/x-python",
   "name": "python",
   "nbconvert_exporter": "python",
   "pygments_lexer": "ipython3",
   "version": "3.8.10"
  }
 },
 "nbformat": 4,
 "nbformat_minor": 5
}
